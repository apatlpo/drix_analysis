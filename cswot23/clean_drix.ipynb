{
 "cells": [
  {
   "cell_type": "markdown",
   "id": "ad6650d3",
   "metadata": {},
   "source": [
    "# DriX: process raw TSG, navigation, meteorological data\n",
    "\n",
    "Points to be resolved:\n",
    "\n",
    "- few seconds delay between met station data and inertial station data\n"
   ]
  },
  {
   "cell_type": "code",
   "execution_count": null,
   "id": "33d6d987",
   "metadata": {
    "tags": []
   },
   "outputs": [],
   "source": [
    "import os\n",
    "from glob import glob\n",
    "\n",
    "import numpy as np\n",
    "import pandas as pd\n",
    "import xarray as xr\n",
    "\n",
    "%matplotlib inline\n",
    "import matplotlib.pyplot as plt\n",
    "import hvplot.xarray  # noqa\n",
    "import hvplot.pandas  # noqa\n",
    "\n",
    "import pynsitu as pin\n",
    "\n",
    "crs = pin.maps.crs"
   ]
  },
  {
   "cell_type": "code",
   "execution_count": null,
   "id": "9d16bb83",
   "metadata": {
    "tags": []
   },
   "outputs": [],
   "source": [
    "# load campaign object\n",
    "cp = pin.Campaign(\"cswot23.yaml\")\n",
    "\n",
    "# plotting utils\n",
    "kwargs_map = dict(extent=cp[\"lon\"] + cp[\"lat\"], bathy=cp[\"bathy\"][\"label\"])"
   ]
  },
  {
   "cell_type": "markdown",
   "id": "8daee216",
   "metadata": {},
   "source": [
    "---\n",
    "\n",
    "## load data"
   ]
  },
  {
   "cell_type": "code",
   "execution_count": null,
   "id": "16c1fe6b",
   "metadata": {
    "tags": []
   },
   "outputs": [],
   "source": [
    "# modifie par valerie\n",
    "def _get_tstamp_dir(d):\n",
    "    \"\"\"get time stamp of directory\"\"\"\n",
    "    day = d.split(\"/\")[-1].split(\"_\")[0]\n",
    "    day = pd.Timestamp(year=int(day[:4]), month=int(day[4:6]), day=int(day[6:8]))\n",
    "    return day\n",
    "\n",
    "\n",
    "def _parser(l):\n",
    "    if len(l) > 0:\n",
    "        # valerie\n",
    "        if len(l.split(\".\"))==2:\n",
    "            return float(l)\n",
    "        else:\n",
    "            return ll2dec(l.split(\";\")[0], l.split(\";\")[1][:-1], l[-1])\n",
    "    else:\n",
    "        return np.NaN\n",
    "\n",
    "\n",
    "def _emptystring2nan(s):\n",
    "    if isinstance(s, str) and len(s) == 0:\n",
    "        return np.NaN\n",
    "    else:\n",
    "        return s\n",
    "\n",
    "\n",
    "def ll2dec(deg, minute, direction):\n",
    "    if direction == \"N\" or direction == \"E\":\n",
    "        sign = 1\n",
    "    else:\n",
    "        sign = -1\n",
    "    return sign * (float(deg) + float(minute) / 60)\n",
    "\n",
    "\n",
    "def read_drix_file(file, lon_key, lat_key):\n",
    "    \"\"\"load DriX txt data (logged with qinsy)\"\"\"\n",
    "\n",
    "    with open(file, encoding=\"unicode_escape\") as f:\n",
    "        d = list(f.readlines())\n",
    "        # replace return carriage from the end of the strings, split each string into a list\n",
    "        d = [row.replace(\"\\n\", \"\").split(\",\") for row in d]\n",
    "\n",
    "    # split in chunks if header changes\n",
    "    D, C = [], []\n",
    "    _d = []\n",
    "    for row in d:\n",
    "        if row[0] != \"Date\":\n",
    "            # fill in data\n",
    "            _d.append(row)\n",
    "        else:\n",
    "            # update column description\n",
    "            C.append(row)\n",
    "            if _d:\n",
    "                D.append(_d)\n",
    "                _d = []\n",
    "    D.append(_d)\n",
    "\n",
    "    DF = []\n",
    "    for _d, _c in zip(D, C):\n",
    "        df = pd.DataFrame(_d, columns=_c)\n",
    "        # convert column 0 and 1 to a datetime\n",
    "        df[\"time\"] = pd.to_datetime(df[\"Date\"] + \" \" + df[\"Time\"])\n",
    "        df.set_index(\"time\", inplace=True)\n",
    "        # parse coordinates\n",
    "        df[lat_key + \"_tmp\"] = df[lat_key].map(_parser)\n",
    "        df[lon_key + \"_tmp\"] = df[lon_key].map(_parser)\n",
    "        # get rid of empty strings\n",
    "        df = df.applymap(_emptystring2nan)\n",
    "        # clean up\n",
    "        df = df.drop(columns=[\"Date\", \"Time\", lon_key, lat_key])\n",
    "        df = df.rename(columns={lon_key + \"_tmp\": lon_key, lat_key + \"_tmp\": lat_key})\n",
    "        DF.append(df)\n",
    "\n",
    "    # convert all columns but index to float\n",
    "    df = pd.concat(DF)\n",
    "    for c in df:\n",
    "        df[c] = df[c].astype(float)\n",
    "\n",
    "    return df\n",
    "\n",
    "\n",
    "def read_drix_data(root_dir, lon_key, lat_key, subdirs=False):\n",
    "    \"\"\"Read a set of DriX files\"\"\"\n",
    "\n",
    "    if subdirs:\n",
    "        _dirs = sorted(glob(os.path.join(root_dir, \"*\")))\n",
    "        #_dirs = sorted(glob(os.path.join(root_dir, \"MiniCT\")))\n",
    "\n",
    "        dirs = pd.DataFrame(\n",
    "            dict(dirs=_dirs),\n",
    "            # index=[[_get_tstamp_dir(d) for d in _dirs]], # valerie pas de directory avec la date\n",
    "        )\n",
    "\n",
    "        files = []\n",
    "        for d, s in dirs.iterrows():\n",
    "            files = files + sorted(glob(os.path.join(s[\"dirs\"], \"Daily_Log/*.txt\")))\n",
    "            #files = files + sorted(glob(os.path.join(s[\"dirs\"], \"Hourly/*.txt\")))\n",
    "            #files = files + sorted(glob(os.path.join(s[\"dirs\"], \"*.txt\")))\n",
    "    else:\n",
    "        files = sorted(glob(os.path.join(root_dir, \"*.txt\")))\n",
    "\n",
    "    # dev\n",
    "    # files = files[:2]\n",
    "\n",
    "    # days = {d:d for d in dirs}\n",
    "    # tstamps = [_get_tstamp(file) for file in files]\n",
    "    # files = [f for f, t in zip(files, tstamps)\n",
    "    #         if (t<=cp.end.ceil(\"d\")) and (t>=cp.start.floor(\"d\"))\n",
    "    #        ]\n",
    "\n",
    "    df = pd.concat([read_drix_file(f, lon_key, lat_key) for f in files])\n",
    "\n",
    "    return df"
   ]
  },
  {
   "cell_type": "markdown",
   "id": "d2863c00-e7b7-4a81-ac45-6d381bd6be15",
   "metadata": {
    "tags": []
   },
   "source": [
    "---\n",
    "## meteo\n",
    "\n",
    "Data is 1Hz\n",
    "\n",
    "Questions:\n",
    "\n",
    "- where is \"Station Meteo SOG\" coming from, how is it computed?\n",
    "- ...\n"
   ]
  },
  {
   "cell_type": "code",
   "execution_count": null,
   "id": "96e22098-ddcc-4f4a-b219-49cf30450ec3",
   "metadata": {
    "tags": []
   },
   "outputs": [],
   "source": [
    "meteo = read_drix_data(\n",
    "    os.path.join(cp[\"path_raw\"], \"StationMeteo_Logs/Daily\"),\n",
    "    \"Station Meteo Longitude\",\n",
    "    \"Station Meteo Latitude\",\n",
    ")\n",
    "\n",
    "meteo = meteo.rename(\n",
    "    columns={\n",
    "        \"Temperature Value\": \"Temperature\",\n",
    "        \"Relative Humidit\": \"Relative Humidity\",\n",
    "        \"Solar Radiation Value\": \"Solar Radiation\",\n",
    "        \"Pressure Value\": \"Pressure\",\n",
    "        \"INS1_Gyro Value\": \"INS1_Gyro\",\n",
    "        \"XTILT Value\": \"XTILT\",\n",
    "        \"YTILT Value\": \"YTILT\",\n",
    "        \"Compass Heading Value\": \"Compass Heading\",\n",
    "        \"ZOrient Value\": \"ZOrient\",\n",
    "        \"U Axis Value\": \"U Axis\",\n",
    "        \"V Axis Value\": \"V Axis\",\n",
    "        \"Volt Value\": \"Volt\",\n",
    "        \"Windstat Value\": \"Windstat\",\n",
    "        \"Status Value\": \"Status\",\n",
    "        \"Station Meteo Longitude\": \"lon\",\n",
    "        \"Station Meteo Latitude\": \"lat\",\n",
    "    }\n",
    ")\n",
    "\n",
    "meteo.columns"
   ]
  },
  {
   "cell_type": "code",
   "execution_count": null,
   "id": "17b0bc5d-aa81-41eb-9492-b14eb0256e1a",
   "metadata": {
    "tags": []
   },
   "outputs": [],
   "source": [
    "df = meteo"
   ]
  },
  {
   "cell_type": "markdown",
   "id": "f43cf20f-404e-4544-866c-7917aaa71cb1",
   "metadata": {},
   "source": [
    "### compare Meteo compas and INS1 Gyro\n",
    "\n",
    "There seem to be a lag of few seconds between the inertial station and the wind gauge"
   ]
  },
  {
   "cell_type": "code",
   "execution_count": null,
   "id": "b7be7a07-3a35-468e-8168-d5d9aa29d4d9",
   "metadata": {},
   "outputs": [],
   "source": [
    "df[[\"Compass Heading\", \"INS1_Gyro\"]].hvplot()"
   ]
  },
  {
   "cell_type": "code",
   "execution_count": null,
   "id": "2d344218-d6d2-4535-a05a-f29dd90be9a1",
   "metadata": {},
   "outputs": [],
   "source": [
    "dphi = (df[\"Compass Heading\"] - df[\"INS1_Gyro\"] + 180) % 360 - 180\n",
    "dphi.plot.hist(bins=np.arange(-90, 90, 2), grid=True)\n",
    "print(\"Mean difference (compass-INS1) = {:.3f} degrees\".format(dphi.mean()))"
   ]
  },
  {
   "cell_type": "markdown",
   "id": "e1fd5970-7862-4ff3-8ee6-282787940ea1",
   "metadata": {},
   "source": [
    "### compare geographical displacements and platform attitudes data (gyro ...)"
   ]
  },
  {
   "cell_type": "code",
   "execution_count": null,
   "id": "188d963b-5977-4b4a-bb24-19b0a353c1dc",
   "metadata": {},
   "outputs": [],
   "source": [
    "df = df.geo.compute_velocities()"
   ]
  },
  {
   "cell_type": "markdown",
   "id": "e26ab3b4-b3bc-4faf-a4fd-dc5e1f80f9e0",
   "metadata": {},
   "source": [
    "Rederiving velocity from coordinates is noisier than what is provided by the variable \"Station Meteo SOG\n",
    "\n",
    "Why ?"
   ]
  },
  {
   "cell_type": "code",
   "execution_count": null,
   "id": "d729ff0b-cd0d-44ab-a1d4-c472ff612f0f",
   "metadata": {},
   "outputs": [],
   "source": [
    "df[[\"Station Meteo SOG\", \"velocity\"]].hvplot()"
   ]
  },
  {
   "cell_type": "markdown",
   "id": "ca22294a-ba8f-4840-a4eb-34f9ce5c1da2",
   "metadata": {},
   "source": [
    "One can approximately reconcile speed direction and INS1_Gyro, they are not expected to be equal (course vs heading)"
   ]
  },
  {
   "cell_type": "code",
   "execution_count": null,
   "id": "f47e8b9c-9e8d-42bb-be7f-6b208e6c1cd9",
   "metadata": {},
   "outputs": [],
   "source": [
    "# direction is positive clockwise from north\n",
    "df[\"speed_direction\"] = (\n",
    "    -np.arctan2(-df[\"velocity_east\"], df[\"velocity_north\"]) * 180 / np.pi\n",
    ") % 360\n",
    "\n",
    "_df = df.copy()\n",
    "_df.loc[_df.velocity < 1] = np.NaN\n",
    "_df[[\"INS1_Gyro\", \"speed_direction\"]].hvplot()"
   ]
  },
  {
   "cell_type": "code",
   "execution_count": null,
   "id": "cdb89899-ba2b-4d01-bcb7-95eb87c13613",
   "metadata": {},
   "outputs": [],
   "source": [
    "_df = df.copy()\n",
    "_df.loc[_df.velocity < 1] = np.NaN\n",
    "\n",
    "dphi = ((_df[\"speed_direction\"] - _df[\"INS1_Gyro\"]) + 180) % 360 - 180\n",
    "dphi.plot.hist(bins=np.arange(-90, 90, 2), grid=True)\n",
    "\n",
    "print(\"Mean difference = {:.3f} degrees\".format(dphi.mean()))"
   ]
  },
  {
   "cell_type": "markdown",
   "id": "e0b76923-b09b-4fe0-8904-b1bdbfbb2076",
   "metadata": {},
   "source": [
    "### compute wind in geographic frame of reference"
   ]
  },
  {
   "cell_type": "code",
   "execution_count": null,
   "id": "76f7a280-cfb3-4324-b5ad-09335c11c495",
   "metadata": {
    "tags": []
   },
   "outputs": [],
   "source": [
    "# rotates U Axis, V Axis into Earth coordinates first\n",
    "# phi = \"INS1_Gyro\"\n",
    "phi = \"Compass Heading\"\n",
    "df[\"wind_u_relative\"] = df[\"U Axis\"] * np.sin(df[phi] / pin.rad2deg) - df[\n",
    "    \"V Axis\"\n",
    "] * np.cos(df[phi] / pin.rad2deg)\n",
    "df[\"wind_v_relative\"] = df[\"U Axis\"] * np.cos(df[phi] / pin.rad2deg) + df[\n",
    "    \"V Axis\"\n",
    "] * np.sin(df[phi] / pin.rad2deg)\n",
    "\n",
    "# correct for platform motion\n",
    "u_met, v_met = \"Station Meteo u\", \"Station Meteo v\"\n",
    "u_met, v_met = \"velocity_east\", \"velocity_north\"\n",
    "df[\"wind_u_true\"] = df[\"wind_u_relative\"] + df[u_met]\n",
    "df[\"wind_v_true\"] = df[\"wind_v_relative\"] + df[v_met]"
   ]
  },
  {
   "cell_type": "code",
   "execution_count": null,
   "id": "2eb24fc5-ecba-4a85-b8d8-f8c25a0dac38",
   "metadata": {
    "tags": []
   },
   "outputs": [],
   "source": [
    "df[[\"Station Meteo SOG\", \"U Axis\", \"wind_u_relative\", \"wind_u_true\"]].hvplot(width=1000)"
   ]
  },
  {
   "cell_type": "code",
   "execution_count": null,
   "id": "ac5731f5-d499-4dea-a786-dd4050eff2da",
   "metadata": {
    "tags": []
   },
   "outputs": [],
   "source": [
    "df[[\"V Axis\", \"wind_v_relative\", \"wind_v_true\"]].hvplot(width=1000)"
   ]
  },
  {
   "cell_type": "markdown",
   "id": "42c585cd-32e6-4d95-8477-af14c575e3a9",
   "metadata": {},
   "source": [
    "### store"
   ]
  },
  {
   "cell_type": "code",
   "execution_count": null,
   "id": "8c026b6c-eadc-4498-af63-fcfc7f38265b",
   "metadata": {},
   "outputs": [],
   "source": [
    "_df = df.ts.resample_centered(\"10s\").mean()\n",
    "_df.to_xarray().to_netcdf(os.path.join(cp[\"path_processed\"], \"drix_met_10s.nc\"), mode=\"w\")"
   ]
  },
  {
   "cell_type": "code",
   "execution_count": null,
   "id": "f236abec-421c-4c66-8e9c-550b28cb0e61",
   "metadata": {},
   "outputs": [],
   "source": [
    "_df = df.ts.resample_centered(\"1T\").mean()\n",
    "_df.to_xarray().to_netcdf(os.path.join(cp[\"path_processed\"], \"drix_met_1m.nc\"), mode=\"w\")"
   ]
  },
  {
   "cell_type": "markdown",
   "id": "49eb2563-8d42-40f3-94b7-624b8546e18f",
   "metadata": {},
   "source": [
    "---\n",
    "## underway CTDs"
   ]
  },
  {
   "cell_type": "code",
   "execution_count": null,
   "id": "a8967b94",
   "metadata": {},
   "outputs": [],
   "source": [
    "miniCT = read_drix_data(\n",
    "    os.path.join(cp[\"path_raw\"], \"MiniCT_Logs/Daily\"), \"MiniCT Longitude\", \"MiniCT Latitude\"\n",
    ")\n",
    "\n",
    "miniCT = miniCT.rename(\n",
    "    columns={\n",
    "        \"MiniCT Height\": \"height\",\n",
    "        \"MiniCT Latitude\": \"lat\",\n",
    "        \"MiniCT Longitude\": \"lon\",\n",
    "        \"Conductivité Value\": \"conductivity\",\n",
    "        \"Temperature Value\": \"temp\",\n",
    "    }\n",
    ")\n",
    "\n",
    "miniCT.loc[:,\"depth\"] = 2.\n",
    "miniCT.sw.update_eos()"
   ]
  },
  {
   "cell_type": "code",
   "execution_count": null,
   "id": "51c3b892-6bd0-41db-abf9-3b36e9a0536c",
   "metadata": {},
   "outputs": [],
   "source": [
    "# sensor corrections (lab measured)\n",
    "miniCT_eT = pd.DataFrame(\n",
    "    dict(temperature_ref=[24.8991, 20.0087, 15.1941], \n",
    "         temperature_sensor=[24.8809, 19.9911, 15.1791],\n",
    "         correction=[0.0182, 0.0176, 0.0150]),  # ref - sensor\n",
    ")\n",
    "    \n",
    "miniCT_eC = pd.DataFrame(\n",
    "    dict(salinity_ref=[24.1661, 24.1696, 24.1701, 35.4521, 35.4567, 35.4554, 35.1430, 35.1492, 35.1521], \n",
    "         temperature_bath=[15.1518, 15.1563, 15.1537, 20.4748, 20.4711, 20.4714, 25.4870, 25.4884, 25.4895], \n",
    "         conductivity_ref=[30.8529, 30.8602, 30.8589, 48.9579, 48.9597, 48.9584, 53.7752, 53.7852, 53.7902], \n",
    "         conductivity_sensor=[30.8421, 30.8479, 30.8466, 48.9375, 48.9346, 48.9364, 53.7481, 53.7537, 53.7595],\n",
    "         correction=[0.0107, 0.0123, 0.0123, 0.0204, 0.0251, 0.0219, 0.0272, 0.0315, 0.0306]),  # ref - sensor\n",
    ")\n",
    "\n",
    "fig, ax = plt.subplots(1,1)\n",
    "miniCT_eC.plot.scatter(ax=ax,x=\"conductivity_ref\", y=\"correction\", grid=True, label=\"miniCT\", color=\"k\")"
   ]
  },
  {
   "cell_type": "code",
   "execution_count": null,
   "id": "f362601a-45dc-4ad0-95ad-e0c017d7238c",
   "metadata": {},
   "outputs": [],
   "source": [
    "from scipy import interpolate\n",
    "\n",
    "def correct_temp(temp, sensor):\n",
    "    \"\"\" return correction to temperature measurement\"\"\"\n",
    "    if sensor==\"miniCT\":\n",
    "        df = miniCT_eT\n",
    "    elif sensor==\"legato\":\n",
    "        df = legato_eT\n",
    "    interp = interpolate.interp1d(df[\"temperature_ref\"], \n",
    "                                  df[\"correction\"], \n",
    "                                  kind=\"linear\", \n",
    "                                  bounds_error=False,\n",
    "                                  fill_value=\"extrapolate\",\n",
    "                                 )\n",
    "    correction = interp(temp)\n",
    "    return correction\n",
    "\n",
    "\n",
    "_conductivity_intervals = pd.IntervalIndex.from_tuples([(30,31), (48, 49), (53,54)])\n",
    "\n",
    "def correct_conductivity(conductivity, sensor):\n",
    "    \"\"\" return correction to conductivity measurement\"\"\"\n",
    "    if sensor==\"miniCT\":\n",
    "        df = miniCT_eC.copy()\n",
    "    elif sensor==\"legato\":\n",
    "        df = legato_eC.copy()\n",
    "    df[\"conductivity\"] = pd.cut(df[\"conductivity_ref\"], _conductivity_intervals)\n",
    "    dfm = df.groupby(\"conductivity\").mean()\n",
    "    interp = interpolate.interp1d(dfm[\"conductivity_ref\"], \n",
    "                                  dfm[\"correction\"], \n",
    "                                  kind=\"linear\", \n",
    "                                  bounds_error=False,\n",
    "                                  fill_value=\"extrapolate\",\n",
    "                                 )\n",
    "    correction = interp(conductivity)\n",
    "    return correction\n"
   ]
  },
  {
   "cell_type": "code",
   "execution_count": null,
   "id": "6d0ef861-130f-47f5-9084-d8b8aeaa6556",
   "metadata": {},
   "outputs": [],
   "source": [
    "# compute temperature corrections\n",
    "miniCT[\"temp_correction\"] = correct_temp(miniCT[\"temp\"], \"miniCT\")\n",
    "\n",
    "# compute conductivity corrections\n",
    "miniCT[\"conductivity_correction\"] = correct_conductivity(miniCT[\"conductivity\"], \"miniCT\")\n",
    "\n",
    "# apply corrections\n",
    "miniCT = miniCT.rename(columns=dict(temp=\"temp_uncorrected\", conductivity=\"conductivity_uncorrected\"))\n",
    "miniCT[\"temp\"] = miniCT[\"temp_uncorrected\"] + miniCT[\"temp_correction\"]\n",
    "miniCT[\"conductivity\"] = miniCT[\"conductivity_uncorrected\"] + miniCT[\"conductivity_correction\"]"
   ]
  },
  {
   "cell_type": "code",
   "execution_count": null,
   "id": "7f3bd48e",
   "metadata": {},
   "outputs": [],
   "source": [
    "uctd = miniCT.ts.resample_centered(\"1s\").mean()"
   ]
  },
  {
   "cell_type": "code",
   "execution_count": null,
   "id": "a3e1e875",
   "metadata": {},
   "outputs": [],
   "source": [
    "uctd.to_xarray().to_netcdf(os.path.join(cp[\"path_processed\"], \"drix_underway_ctd_1s.nc\"), mode=\"w\")\n",
    "uctd.ts.resample_centered(\"10s\").mean().to_xarray().to_netcdf(\n",
    "    os.path.join(cp[\"path_processed\"], \"drix_underway_ctd_10s.nc\"), mode=\"w\"\n",
    ")"
   ]
  },
  {
   "cell_type": "code",
   "execution_count": null,
   "id": "a8ae77bd-e17a-4808-9ba5-6ed0895b6136",
   "metadata": {},
   "outputs": [],
   "source": [
    "uctd.head()"
   ]
  },
  {
   "cell_type": "markdown",
   "id": "1330c1ac-e10a-46a5-b3f8-1b42fb4c6d20",
   "metadata": {},
   "source": [
    "### start plotting data"
   ]
  },
  {
   "cell_type": "code",
   "execution_count": null,
   "id": "b959aa91",
   "metadata": {},
   "outputs": [],
   "source": [
    "fig, ax = plt.subplots(1, 1)\n",
    "uctd[\"temp\"].plot()\n",
    "ax.grid(which=\"both\")"
   ]
  },
  {
   "cell_type": "code",
   "execution_count": null,
   "id": "ee940cbd",
   "metadata": {},
   "outputs": [],
   "source": [
    "fig, ax = plt.subplots(1, 1)\n",
    "uctd[\"conductivity\"].plot()\n",
    "ax.grid(which=\"both\")"
   ]
  },
  {
   "cell_type": "markdown",
   "id": "e0a6f879-1780-4beb-abcc-75fde1064201",
   "metadata": {},
   "source": [
    "---\n",
    "### inertial station"
   ]
  },
  {
   "cell_type": "code",
   "execution_count": null,
   "id": "4b2bbb66-d59d-485d-b215-471ef5d44e0f",
   "metadata": {},
   "outputs": [],
   "source": [
    "def load_ins_ascii(file, dt=None):\n",
    "\n",
    "    # load\n",
    "    df = pd.read_csv(\n",
    "        file, delimiter=\"\\t\", encoding=\"iso-8859-1\", skiprows=26\n",
    "    )  # header=27 columns=[]\n",
    "    df[\"time\"] = pd.to_datetime(df[\"#date\"] + \" \" + df[\"time\"], errors=\"coerce\")\n",
    "    df = df.set_index(\"time\").drop(columns=[\"#date\"])\n",
    "\n",
    "    # subsample\n",
    "    if dt is not None:\n",
    "        df = df.ts.resample_centered(dt).median()\n",
    "\n",
    "    return df"
   ]
  },
  {
   "cell_type": "code",
   "execution_count": null,
   "id": "0d3036e2-b2cd-4cd4-ad0e-cce85469d637",
   "metadata": {},
   "outputs": [],
   "source": [
    "files = glob(os.path.join(root_dir, \"INS/ascii/*.txt\"))\n",
    "\n",
    "dt = \"10s\"\n",
    "df = pd.concat([load_ins_ascii(file, dt=dt) for file in files])\n",
    "df.to_xarray().to_netcdf(os.path.join(cp.pathp, f\"drix_ins_{dt}.nc\"), mode=\"w\")"
   ]
  },
  {
   "cell_type": "code",
   "execution_count": null,
   "id": "ee9d5e88-8c53-4bcc-aa23-fb27e241b48b",
   "metadata": {},
   "outputs": [],
   "source": []
  },
  {
   "cell_type": "markdown",
   "id": "8cdb9382-057e-4437-8e02-0ffc4a6d8a6d",
   "metadata": {},
   "source": [
    "---\n",
    "## turbidity\n",
    "\n",
    "Data is 2Hz"
   ]
  },
  {
   "cell_type": "code",
   "execution_count": 35,
   "id": "4fd8d1a6-fd5f-43d2-ac5c-e9b67593082e",
   "metadata": {},
   "outputs": [],
   "source": [
    "turb = read_drix_data(\n",
    "    os.path.join(cp[\"path_raw\"], \"Turbidimetre_Logs/Daily\"),\n",
    "    \"Turbidimètre Longitude\",\n",
    "    \"Turbidimètre Latitude\",\n",
    ")\n",
    "\n",
    "turb = turb.rename(\n",
    "    columns={\n",
    "        \"Turbidimètre Height\": \"height\",\n",
    "        \"Tension Value\": \"tension\",\n",
    "        \"Temperature Value\": \"temperature\",\n",
    "        \"V1 Value\": \"V1\",\n",
    "        \"V2 Value\": \"V2\",\n",
    "        \"Turbidimètre Longitude\": \"lon\",\n",
    "        \"Turbidimètre Latitude\": \"lat\",\n",
    "    }\n",
    ")"
   ]
  },
  {
   "cell_type": "code",
   "execution_count": 36,
   "id": "4f91b3b3-ba3a-44af-9229-9e7da05ea921",
   "metadata": {},
   "outputs": [],
   "source": [
    "# from G037_OBS-3p_T8749_Calibration-Certificate_20180803.pdf\n",
    "turb[\"turbidity_low_range\"] = 1.0676e0 * turb[\"V1\"]**2 + 4.3833e1 * turb[\"V1\"] - 9.7576e-2\n",
    "turb[\"turbidity_high_range\"] = 2.3249e1 * turb[\"V2\"]**2 + 1.6830e2 * turb[\"V2\"] + 2.7114e-1"
   ]
  },
  {
   "cell_type": "code",
   "execution_count": null,
   "id": "7152e2f9-5a96-4158-9568-7849c2d4f95d",
   "metadata": {},
   "outputs": [],
   "source": [
    "(turb[\"turbidity_low_range\"].hvplot() + turb[\"turbidity_high_range\"].hvplot()).cols(1)"
   ]
  },
  {
   "cell_type": "code",
   "execution_count": 39,
   "id": "b5e0f041-e9d3-4cee-9e0e-d7df55389bf6",
   "metadata": {},
   "outputs": [],
   "source": [
    "df = turb\n",
    "\n",
    "_df = df.ts.resample_centered(\"1s\").mean()\n",
    "_df.to_xarray().to_netcdf(os.path.join(cp[\"path_processed\"], \"drix_turb_1s.nc\"), mode=\"w\")\n",
    "\n",
    "_df = df.ts.resample_centered(\"10s\").mean()\n",
    "_df.to_xarray().to_netcdf(os.path.join(cp[\"path_processed\"], \"drix_turb_10s.nc\"), mode=\"w\")"
   ]
  },
  {
   "cell_type": "code",
   "execution_count": 40,
   "id": "be2f49b4-5b45-4b5a-b2da-0e39d19434ce",
   "metadata": {},
   "outputs": [
    {
     "data": {
      "text/plain": [
       "[<matplotlib.lines.Line2D at 0x7fb889c49b40>]"
      ]
     },
     "execution_count": 40,
     "metadata": {},
     "output_type": "execute_result"
    },
    {
     "data": {
      "image/png": "[encoded data removed]",
      "text/plain": [
       "<Figure size 640x480 with 1 Axes>"
      ]
     },
     "metadata": {},
     "output_type": "display_data"
    }
   ],
   "source": [
    "fig, ax = plt.subplots(1, 1)\n",
    "ax.plot(turb[\"turbidity_low_range\"], turb[\"turbidity_high_range\"], \".\")"
   ]
  },
  {
   "cell_type": "code",
   "execution_count": null,
   "id": "7bff6cfa-16cd-4584-b477-d5d947429eb5",
   "metadata": {},
   "outputs": [],
   "source": []
  }
 ],
 "metadata": {
  "kernelspec": {
   "display_name": "Python 3 (ipykernel)",
   "language": "python",
   "name": "python3"
  },
  "language_info": {
   "codemirror_mode": {
    "name": "ipython",
    "version": 3
   },
   "file_extension": ".py",
   "mimetype": "text/x-python",
   "name": "python",
   "nbconvert_exporter": "python",
   "pygments_lexer": "ipython3",
   "version": "3.10.8"
  }
 },
 "nbformat": 4,
 "nbformat_minor": 5
}
