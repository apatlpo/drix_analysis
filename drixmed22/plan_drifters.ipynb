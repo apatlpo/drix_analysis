{
 "cells": [
  {
   "cell_type": "markdown",
   "id": "6c8a1261",
   "metadata": {},
   "source": [
    "# DriX med deployments"
   ]
  },
  {
   "cell_type": "code",
   "execution_count": 1,
   "id": "e1c9024c",
   "metadata": {},
   "outputs": [],
   "source": [
    "import os\n",
    "from glob import glob\n",
    "\n",
    "from datetime import datetime\n",
    "from time import sleep\n",
    "\n",
    "import numpy as np\n",
    "import pandas as pd\n",
    "import xarray as xr\n",
    "\n",
    "import matplotlib.pyplot as plt\n",
    "import pyproj\n",
    "\n",
    "import taos.utils as ut\n",
    "import insitu as ins\n",
    "from taos.insitu import rad2deg, knot"
   ]
  },
  {
   "cell_type": "code",
   "execution_count": 4,
   "id": "1591b4b5",
   "metadata": {},
   "outputs": [
    {
     "data": {
      "text/plain": [
       "(43.88666666666667, 5.278333333333333)"
      ]
     },
     "execution_count": 4,
     "metadata": {},
     "output_type": "execute_result"
    }
   ],
   "source": [
    "43 + 53.2 / 60, 5 + 16.7 / 60"
   ]
  },
  {
   "cell_type": "markdown",
   "id": "45046950",
   "metadata": {},
   "source": [
    "---\n",
    "\n",
    "## useful metrics"
   ]
  },
  {
   "cell_type": "code",
   "execution_count": 2,
   "id": "e6f47d57",
   "metadata": {},
   "outputs": [],
   "source": [
    "lonc = 5\n",
    "latc = 43"
   ]
  },
  {
   "cell_type": "code",
   "execution_count": 3,
   "id": "4092dbbf",
   "metadata": {},
   "outputs": [
    {
     "name": "stdout",
     "output_type": "stream",
     "text": [
      " lon: 1 deg = 81.54km,  0.1 deg = 8.2km,  0.01 deg = 815.4m,  0.001 deg = 81.5m\n",
      " lon: 1 deg = 81.54km,  1 min = 1359.0m,  .1 min = 135.9m,  0.01 min = 13.6m\n",
      " lon: 1 deg = 81.54km,  1 sec = 22.7m,  .1 sec = 2.3m\n",
      "-----------------------------------------------------------------\n",
      " lat: 1 deg = 111.10km,  0.1 deg = 11.1km,  0.01 deg = 1110.9m,  0.001 deg = 111.1m\n",
      " lat: 1 deg = 111.10km,  1 min = 1851.5m,  .1 min = 185.2m,  0.01 min = 18.5m\n",
      " lat: 1 deg = 111.10km,  1 sec = 30.9m,  .1 sec = 3.1m\n"
     ]
    }
   ],
   "source": [
    "ins.metrics_cheatsheet(lonc, latc)"
   ]
  },
  {
   "cell_type": "markdown",
   "id": "0d10c267",
   "metadata": {},
   "source": [
    "🐷🐷🐷🐷🐨🌼🌼🌼💐💐🌾🌖🌾😋😋👩‍🦳👩‍🦳§😄😁😁😁😀😄😄(😃😄(😚😚😗)🙃😇😇😇😇🥳🥳😏🥳🥳😏🥳😏🥳)😡😡😡😡😡😡👹👹👹👺👺👺👾👽👾😿😿😿😸😹👍🖐🏻👉🏽👀👥👥👥👥👥👥👥🧑🏽‍🦰🧑🏽‍🦰👱‍♂️👱‍♂️👱‍♂️👱‍♂️😡🤕à🤕🤕🤒😷"
   ]
  },
  {
   "cell_type": "markdown",
   "id": "f0c72ff0",
   "metadata": {},
   "source": [
    "---\n",
    "\n",
    "## drifter deployment route"
   ]
  },
  {
   "cell_type": "code",
   "execution_count": 4,
   "id": "df2172e2",
   "metadata": {},
   "outputs": [],
   "source": [
    "delta_X = 3e3\n",
    "delta_Y = 1e3\n",
    "\n",
    "U = -0.3 + 1j * 0.3\n",
    "\n",
    "# theta = 0/rad2deg # tmp !!\n",
    "# theta = -45*rad2deg # tmp !! , degrees\n",
    "# theta = 2.36\n",
    "theta = np.angle(U)\n",
    "\n",
    "# lon_a, lat_a = lonc, latc # tmp !!\n",
    "lon_a, lat_a = 5.2475, 43.075\n",
    "\n",
    "# other variables\n",
    "speed = 4  # knots\n",
    "time_waiting = 5 * 60  # seconds"
   ]
  },
  {
   "cell_type": "code",
   "execution_count": 13,
   "id": "da71a9e1",
   "metadata": {},
   "outputs": [],
   "source": [
    "X = np.array(\n",
    "    [\n",
    "        0 + 0 * 1j,\n",
    "        delta_X * 0.5 + 0 * 1j,\n",
    "        delta_X + 0 * 1j,\n",
    "        delta_X + delta_Y * 1j,\n",
    "        delta_X * 0.5 + delta_Y * 1j,\n",
    "        0 + delta_Y * 1j,\n",
    "    ]\n",
    ")\n",
    "# X = X - X.mean()\n",
    "X = X - X[0]\n",
    "X = X * np.exp(1j * (theta + np.pi / 2))\n",
    "\n",
    "x_a, y_a = ins.ll2xy(lon_a, lat_a)\n",
    "x, y = x_a + X.real, y_a + X.imag\n",
    "lon, lat = ins.xy2ll(x, y)"
   ]
  },
  {
   "cell_type": "code",
   "execution_count": 14,
   "id": "3d6d6a42",
   "metadata": {},
   "outputs": [
    {
     "data": {
      "image/png": "[encoded data removed]",
      "text/plain": [
       "<Figure size 432x288 with 1 Axes>"
      ]
     },
     "metadata": {
      "needs_background": "light"
     },
     "output_type": "display_data"
    }
   ],
   "source": [
    "fig, ax = plt.subplots(1, 1)\n",
    "ax.plot(X.real, X.imag, \"x-\")\n",
    "ax.plot(X[0].real, X[0].imag, \"o\")  # start\n",
    "ax.set_aspect(\"equal\")\n",
    "ax.grid()"
   ]
  },
  {
   "cell_type": "code",
   "execution_count": 15,
   "id": "8ef949d6",
   "metadata": {},
   "outputs": [
    {
     "data": {
      "image/png": "[encoded data removed]",
      "text/plain": [
       "<Figure size 432x288 with 1 Axes>"
      ]
     },
     "metadata": {
      "needs_background": "light"
     },
     "output_type": "display_data"
    }
   ],
   "source": [
    "fig, ax = plt.subplots(1, 1)\n",
    "ax.plot(lon, lat, \"x-\")\n",
    "ax.plot(lon[0], lat[0], \"o\")  # start\n",
    "# ax.set_aspect(\"equal\")\n",
    "ax.grid()"
   ]
  },
  {
   "cell_type": "code",
   "execution_count": 16,
   "id": "fe5552d1",
   "metadata": {},
   "outputs": [
    {
     "data": {
      "application/vnd.jupyter.widget-view+json": {
       "model_id": "cf15971763a34f8a97e80510f5130ff1",
       "version_major": 2,
       "version_minor": 0
      },
      "text/plain": [
       "Output()"
      ]
     },
     "metadata": {},
     "output_type": "display_data"
    },
    {
     "name": "stdout",
     "output_type": "stream",
     "text": [
      "{'ship': {'lon': 5.2475, 'lat': 43.075}, 'anchor': {'lon': 5.2475, 'lat': 43.075}}\n"
     ]
    },
    {
     "name": "stderr",
     "output_type": "stream",
     "text": [
      "/Users/aponte/.miniconda3/envs/cognac/lib/python3.8/site-packages/scipy/optimize/optimize.py:282: RuntimeWarning: Values in x were outside bounds during a minimize step, clipping to bounds\n",
      "  warnings.warn(\"Values in x were outside bounds during a \"\n"
     ]
    },
    {
     "data": {
      "application/vnd.jupyter.widget-view+json": {
       "model_id": "a1d768c8c4284da9a027abe253b94761",
       "version_major": 2,
       "version_minor": 0
      },
      "text/plain": [
       "GridspecLayout(children=(Button(description='Update', icon='check', layout=Layout(grid_area='widget001'), styl…"
      ]
     },
     "metadata": {},
     "output_type": "display_data"
    }
   ],
   "source": [
    "dash = ins.dashboard_route(\n",
    "    lon,\n",
    "    lat,\n",
    "    ship_speed=speed,\n",
    "    time_waiting=time_waiting / 60,\n",
    ")\n",
    "dash.grid"
   ]
  },
  {
   "cell_type": "code",
   "execution_count": 29,
   "id": "a750a9d5",
   "metadata": {},
   "outputs": [
    {
     "data": {
      "text/plain": [
       "41.76078"
      ]
     },
     "execution_count": 29,
     "metadata": {},
     "output_type": "execute_result"
    }
   ],
   "source": [
    "0.696013 * 60"
   ]
  },
  {
   "cell_type": "code",
   "execution_count": 26,
   "id": "b39df803",
   "metadata": {},
   "outputs": [
    {
     "data": {
      "text/html": [
       "<div>\n",
       "<style scoped>\n",
       "    .dataframe tbody tr th:only-of-type {\n",
       "        vertical-align: middle;\n",
       "    }\n",
       "\n",
       "    .dataframe tbody tr th {\n",
       "        vertical-align: top;\n",
       "    }\n",
       "\n",
       "    .dataframe thead th {\n",
       "        text-align: right;\n",
       "    }\n",
       "</style>\n",
       "<table border=\"1\" class=\"dataframe\">\n",
       "  <thead>\n",
       "    <tr style=\"text-align: right;\">\n",
       "      <th></th>\n",
       "      <th>time</th>\n",
       "      <th>lon</th>\n",
       "      <th>lat</th>\n",
       "      <th>heading</th>\n",
       "      <th>dt_route</th>\n",
       "      <th>dt_total</th>\n",
       "      <th>lon_deg</th>\n",
       "      <th>lon_min</th>\n",
       "      <th>lat_deg</th>\n",
       "      <th>lat_min</th>\n",
       "    </tr>\n",
       "    <tr>\n",
       "      <th>deployment</th>\n",
       "      <th></th>\n",
       "      <th></th>\n",
       "      <th></th>\n",
       "      <th></th>\n",
       "      <th></th>\n",
       "      <th></th>\n",
       "      <th></th>\n",
       "      <th></th>\n",
       "      <th></th>\n",
       "      <th></th>\n",
       "    </tr>\n",
       "  </thead>\n",
       "  <tbody>\n",
       "    <tr>\n",
       "      <th>-1</th>\n",
       "      <td>2022-09-23 05:24:22.919612000</td>\n",
       "      <td>5.247500</td>\n",
       "      <td>43.075000</td>\n",
       "      <td>NaN</td>\n",
       "      <td>NaN</td>\n",
       "      <td>NaN</td>\n",
       "      <td>5.0</td>\n",
       "      <td>14.850000</td>\n",
       "      <td>43.0</td>\n",
       "      <td>4.500000</td>\n",
       "    </tr>\n",
       "    <tr>\n",
       "      <th>0</th>\n",
       "      <td>2022-09-23 05:29:23.919612000</td>\n",
       "      <td>5.247476</td>\n",
       "      <td>43.075006</td>\n",
       "      <td>-3.455752</td>\n",
       "      <td>0.016667</td>\n",
       "      <td>5.016667</td>\n",
       "      <td>5.0</td>\n",
       "      <td>14.848561</td>\n",
       "      <td>43.0</td>\n",
       "      <td>4.500346</td>\n",
       "    </tr>\n",
       "    <tr>\n",
       "      <th>1</th>\n",
       "      <td>2022-09-23 05:47:05.680421434</td>\n",
       "      <td>5.230516</td>\n",
       "      <td>43.068361</td>\n",
       "      <td>-2.647937</td>\n",
       "      <td>12.696013</td>\n",
       "      <td>17.696013</td>\n",
       "      <td>5.0</td>\n",
       "      <td>13.830983</td>\n",
       "      <td>43.0</td>\n",
       "      <td>4.101656</td>\n",
       "    </tr>\n",
       "    <tr>\n",
       "      <th>2</th>\n",
       "      <td>2022-09-23 06:04:47.441230666</td>\n",
       "      <td>5.213560</td>\n",
       "      <td>43.061714</td>\n",
       "      <td>-2.647937</td>\n",
       "      <td>12.696013</td>\n",
       "      <td>17.696013</td>\n",
       "      <td>5.0</td>\n",
       "      <td>12.813626</td>\n",
       "      <td>43.0</td>\n",
       "      <td>3.702814</td>\n",
       "    </tr>\n",
       "    <tr>\n",
       "      <th>3</th>\n",
       "      <td>2022-09-23 06:15:39.307304335</td>\n",
       "      <td>5.219824</td>\n",
       "      <td>43.057097</td>\n",
       "      <td>-0.785398</td>\n",
       "      <td>5.864435</td>\n",
       "      <td>10.864435</td>\n",
       "      <td>5.0</td>\n",
       "      <td>13.189425</td>\n",
       "      <td>43.0</td>\n",
       "      <td>3.425825</td>\n",
       "    </tr>\n",
       "    <tr>\n",
       "      <th>4</th>\n",
       "      <td>2022-09-23 06:33:21.068111604</td>\n",
       "      <td>5.228980</td>\n",
       "      <td>43.069494</td>\n",
       "      <td>1.077141</td>\n",
       "      <td>12.696013</td>\n",
       "      <td>17.696013</td>\n",
       "      <td>5.0</td>\n",
       "      <td>13.738780</td>\n",
       "      <td>43.0</td>\n",
       "      <td>4.169627</td>\n",
       "    </tr>\n",
       "    <tr>\n",
       "      <th>5</th>\n",
       "      <td>2022-09-23 06:51:02.828918947</td>\n",
       "      <td>5.238139</td>\n",
       "      <td>43.081890</td>\n",
       "      <td>1.077141</td>\n",
       "      <td>12.696013</td>\n",
       "      <td>17.696013</td>\n",
       "      <td>5.0</td>\n",
       "      <td>14.288357</td>\n",
       "      <td>43.0</td>\n",
       "      <td>4.913383</td>\n",
       "    </tr>\n",
       "  </tbody>\n",
       "</table>\n",
       "</div>"
      ],
      "text/plain": [
       "                                    time       lon        lat   heading  \\\n",
       "deployment                                                                \n",
       "-1         2022-09-23 05:24:22.919612000  5.247500  43.075000       NaN   \n",
       " 0         2022-09-23 05:29:23.919612000  5.247476  43.075006 -3.455752   \n",
       " 1         2022-09-23 05:47:05.680421434  5.230516  43.068361 -2.647937   \n",
       " 2         2022-09-23 06:04:47.441230666  5.213560  43.061714 -2.647937   \n",
       " 3         2022-09-23 06:15:39.307304335  5.219824  43.057097 -0.785398   \n",
       " 4         2022-09-23 06:33:21.068111604  5.228980  43.069494  1.077141   \n",
       " 5         2022-09-23 06:51:02.828918947  5.238139  43.081890  1.077141   \n",
       "\n",
       "             dt_route   dt_total  lon_deg    lon_min  lat_deg   lat_min  \n",
       "deployment                                                               \n",
       "-1                NaN        NaN      5.0  14.850000     43.0  4.500000  \n",
       " 0           0.016667   5.016667      5.0  14.848561     43.0  4.500346  \n",
       " 1          12.696013  17.696013      5.0  13.830983     43.0  4.101656  \n",
       " 2          12.696013  17.696013      5.0  12.813626     43.0  3.702814  \n",
       " 3           5.864435  10.864435      5.0  13.189425     43.0  3.425825  \n",
       " 4          12.696013  17.696013      5.0  13.738780     43.0  4.169627  \n",
       " 5          12.696013  17.696013      5.0  14.288357     43.0  4.913383  "
      ]
     },
     "execution_count": 26,
     "metadata": {},
     "output_type": "execute_result"
    }
   ],
   "source": [
    "dash.df"
   ]
  },
  {
   "cell_type": "code",
   "execution_count": 23,
   "id": "f5635ba4",
   "metadata": {},
   "outputs": [
    {
     "data": {
      "text/plain": [
       "(0.2475, 0.075)"
      ]
     },
     "execution_count": 23,
     "metadata": {},
     "output_type": "execute_result"
    }
   ],
   "source": [
    "5.2475, 43.075\n",
    "\n",
    "14.85 / 60, 4.5 / 60,"
   ]
  },
  {
   "cell_type": "code",
   "execution_count": 24,
   "id": "433ec371",
   "metadata": {},
   "outputs": [
    {
     "data": {
      "image/png": "[encoded data removed]",
      "text/plain": [
       "<Figure size 432x288 with 1 Axes>"
      ]
     },
     "metadata": {
      "needs_background": "light"
     },
     "output_type": "display_data"
    }
   ],
   "source": [
    "fig, ax = plt.subplots(1, 1)\n",
    "ax.plot(lon, lat, \"x-\")\n",
    "ax.plot(lon[0], lat[0], \"o\")  # start\n",
    "\n",
    "# ax.plot(dash.lon_vertices, dash.lat_vertices, \"v-\")\n",
    "ax.plot(dash.df.lon, dash.df.lat, \"v-\")\n",
    "\n",
    "# ax.set_aspect(\"equal\")\n",
    "ax.grid()"
   ]
  },
  {
   "cell_type": "markdown",
   "id": "e83396a2",
   "metadata": {},
   "source": [
    "### Extract current speed and direction from dashboard"
   ]
  },
  {
   "cell_type": "code",
   "execution_count": 17,
   "id": "f101187d",
   "metadata": {},
   "outputs": [
    {
     "name": "stdout",
     "output_type": "stream",
     "text": [
      " theta=2.36 rad = 135.00 deg, abs(U) = 0.14 m/s\n"
     ]
    }
   ],
   "source": [
    "U = dash.w[\"current_speed_x\"].value + 1j * dash.w[\"current_speed_y\"].value\n",
    "\n",
    "# U = 1. + 1j*1. # dev\n",
    "U_theta = np.angle(U)\n",
    "U_amplitude = np.abs(U)\n",
    "print(\n",
    "    f\" theta={U_theta:.2f} rad = {U_theta*rad2deg:.2f} deg, abs(U) = {U_amplitude:.2f} m/s\"\n",
    ")"
   ]
  },
  {
   "cell_type": "code",
   "execution_count": 8,
   "id": "b7852a27",
   "metadata": {},
   "outputs": [],
   "source": [
    "# set rotation angle to current direction\n",
    "theta = U_theta"
   ]
  },
  {
   "cell_type": "code",
   "execution_count": null,
   "id": "e0be9728",
   "metadata": {},
   "outputs": [],
   "source": []
  },
  {
   "cell_type": "code",
   "execution_count": null,
   "id": "8c8e6d13",
   "metadata": {},
   "outputs": [],
   "source": []
  },
  {
   "cell_type": "code",
   "execution_count": null,
   "id": "cb446959",
   "metadata": {},
   "outputs": [],
   "source": []
  },
  {
   "cell_type": "markdown",
   "id": "8429c9ce",
   "metadata": {},
   "source": [
    "⛷⛷⛷⛷⛹️‍♂️🛹🥌🥶🥶🎽\n",
    "😀😀😔😔🥳🥳🥳🥳\n",
    "🤩😞\n",
    "😨🥵🤬⚽️🏀🏈⚾️🥎🎾🎾🏐🥏\n"
   ]
  }
 ],
 "metadata": {
  "kernelspec": {
   "display_name": "Python 3 (ipykernel)",
   "language": "python",
   "name": "python3"
  },
  "language_info": {
   "codemirror_mode": {
    "name": "ipython",
    "version": 3
   },
   "file_extension": ".py",
   "mimetype": "text/x-python",
   "name": "python",
   "nbconvert_exporter": "python",
   "pygments_lexer": "ipython3",
   "version": "3.8.13"
  }
 },
 "nbformat": 4,
 "nbformat_minor": 5
}
